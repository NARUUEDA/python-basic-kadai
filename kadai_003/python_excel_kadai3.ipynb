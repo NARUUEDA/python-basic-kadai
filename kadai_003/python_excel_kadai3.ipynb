{
  "nbformat": 4,
  "nbformat_minor": 0,
  "metadata": {
    "colab": {
      "provenance": []
    },
    "kernelspec": {
      "name": "python3",
      "display_name": "Python 3"
    },
    "language_info": {
      "name": "python"
    }
  },
  "cells": [
    {
      "cell_type": "code",
      "execution_count": 10,
      "metadata": {
        "id": "5nlPWq6tNMRo"
      },
      "outputs": [],
      "source": [
        "import openpyxl\n",
        "from openpyxl.styles import PatternFill\n",
        "import pandas as pd\n",
        "\n",
        "filelist = ['2022_年間売上表.xlsx', '2023_年間売上表.xlsx']\n",
        "\n",
        "df = pd.DataFrame()\n",
        "\n",
        "for sum1 in filelist:\n",
        "    temp_df = pd.read_excel(sum1, header=0)\n",
        "    temp_df.columns = ['商品', '売上年', '金額（千円）']\n",
        "    df = pd.concat([df, temp_df], ignore_index=True)\n",
        "\n",
        "result = df.groupby(['商品','売上年'])['金額（千円）'].sum().reset_index()\n",
        "\n",
        "result = result[['商品', '売上年', '金額（千円）']]\n",
        "\n",
        "result.to_excel('売上集計表.xlsx', index=False)\n",
        "\n",
        "load_workbook = openpyxl.load_workbook('売上集計表.xlsx')\n",
        "sheet = load_workbook.active\n",
        "\n",
        "for row in sheet['A1:C1']:\n",
        "    for cell in row:\n",
        "      cell.fill = PatternFill(patternType='solid', fgColor='F2F2F2')\n",
        "\n",
        "load_workbook.save('売上集計表.xlsx')\n",
        "\n",
        "\n",
        "\n",
        "\n",
        "\n",
        "\n",
        "\n"
      ]
    },
    {
      "cell_type": "markdown",
      "source": [
        "# 新しいセクション"
      ],
      "metadata": {
        "id": "OZJ0TNlwE2IW"
      }
    }
  ]
}