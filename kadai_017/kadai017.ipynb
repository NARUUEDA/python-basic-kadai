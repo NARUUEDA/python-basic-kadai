{
  "nbformat": 4,
  "nbformat_minor": 0,
  "metadata": {
    "colab": {
      "provenance": []
    },
    "kernelspec": {
      "name": "python3",
      "display_name": "Python 3"
    },
    "language_info": {
      "name": "python"
    }
  },
  "cells": [
    {
      "cell_type": "code",
      "execution_count": 36,
      "metadata": {
        "colab": {
          "base_uri": "https://localhost:8080/"
        },
        "id": "7jJ4c7qOryat",
        "outputId": "b7b9bfa5-8e1d-4a3f-fb1d-4de003d83e63"
      },
      "outputs": [
        {
          "output_type": "stream",
          "name": "stdout",
          "text": [
            "成純さんは大人です。\n",
            "真知子さんは大人です。\n",
            "圭悟さんは大人ではありません。\n",
            "彩乃さんは大人ではありません。\n"
          ]
        }
      ],
      "source": [
        "class Human:\n",
        "  def __init__(self, name, age):\n",
        "    self.name = name\n",
        "    self.age = age\n",
        "\n",
        "  def check_adult(self):\n",
        "    if self.age >= 20:\n",
        "      print(f\"{self.name}さんは大人です。\")\n",
        "    else:\n",
        "      print(f\"{self.name}さんは大人ではありません。\")\n",
        "\n",
        "humans = []\n",
        "humans.append(Human(\"成純\", 52))\n",
        "humans.append(Human(\"真知子\", 49))\n",
        "humans.append(Human(\"圭悟\", 15))\n",
        "humans.append(Human(\"彩乃\", 13))\n",
        "\n",
        "for human in humans:\n",
        "  check_adult(human)\n"
      ]
    }
  ]
}